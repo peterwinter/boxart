{
 "cells": [
  {
   "cell_type": "markdown",
   "metadata": {
    "ExecuteTime": {
     "end_time": "2020-10-30T00:39:50.904277Z",
     "start_time": "2020-10-30T00:39:50.846547Z"
    }
   },
   "source": [
    "# Create Rectangle Art"
   ]
  },
  {
   "cell_type": "code",
   "execution_count": 1,
   "metadata": {
    "ExecuteTime": {
     "end_time": "2020-11-04T23:43:59.637371Z",
     "start_time": "2020-11-04T23:43:59.264219Z"
    }
   },
   "outputs": [],
   "source": [
    "%load_ext autoreload\n",
    "%autoreload 2\n",
    "%matplotlib inline"
   ]
  },
  {
   "cell_type": "code",
   "execution_count": 2,
   "metadata": {
    "ExecuteTime": {
     "end_time": "2020-11-04T23:43:59.894935Z",
     "start_time": "2020-11-04T23:43:59.640770Z"
    }
   },
   "outputs": [],
   "source": [
    "import pandas as pd\n",
    "import matplotlib.pyplot as plt\n",
    "import matplotlib as mpl\n",
    "import random\n",
    "import numpy as np"
   ]
  },
  {
   "cell_type": "code",
   "execution_count": 4,
   "metadata": {
    "ExecuteTime": {
     "end_time": "2020-11-04T23:44:00.020142Z",
     "start_time": "2020-11-04T23:43:59.987861Z"
    }
   },
   "outputs": [],
   "source": [
    "# n_low = 3\n",
    "# n_high = 5\n",
    "# n_start = 4"
   ]
  },
  {
   "cell_type": "code",
   "execution_count": 5,
   "metadata": {
    "ExecuteTime": {
     "end_time": "2020-11-04T23:44:00.045441Z",
     "start_time": "2020-11-04T23:44:00.022679Z"
    }
   },
   "outputs": [],
   "source": [
    "n_cols = 100\n",
    "\n",
    "colors = [\n",
    "\"#d46853\", \n",
    "\"#2a2623\", \n",
    "\"#396c59\",\n",
    "\"#1e2f36\",\n",
    "\"#1c1c1a\",\n",
    "]\n"
   ]
  },
  {
   "cell_type": "code",
   "execution_count": 6,
   "metadata": {
    "ExecuteTime": {
     "end_time": "2020-11-04T23:44:00.076899Z",
     "start_time": "2020-11-04T23:44:00.056023Z"
    }
   },
   "outputs": [],
   "source": [
    "import boxart\n",
    "import blockcolors"
   ]
  },
  {
   "cell_type": "code",
   "execution_count": 7,
   "metadata": {
    "ExecuteTime": {
     "end_time": "2020-11-04T23:44:00.151505Z",
     "start_time": "2020-11-04T23:44:00.108221Z"
    },
    "scrolled": false
   },
   "outputs": [],
   "source": []
  },
  {
   "cell_type": "code",
   "execution_count": 17,
   "metadata": {
    "ExecuteTime": {
     "end_time": "2020-11-04T23:46:35.242121Z",
     "start_time": "2020-11-04T23:46:32.911500Z"
    },
    "scrolled": false
   },
   "outputs": [
    {
     "data": {
      "image/png": "[encoded data removed]",
      "text/plain": [
       "<Figure size 432x288 with 1 Axes>"
      ]
     },
     "metadata": {
      "needs_background": "light"
     },
     "output_type": "display_data"
    }
   ],
   "source": [
    "def plot_patches(patches):\n",
    "    fig, ax = plt.subplots()\n",
    "    ax.axes.get_xaxis().set_visible(False)\n",
    "    ax.axes.get_yaxis().set_visible(False)\n",
    "\n",
    "    ax.set_xlim(0, n_cols)\n",
    "    ax.set_ylim(0, 100)\n",
    "    for p in patches:\n",
    "        if 'id' in p:\n",
    "            p.pop('id')\n",
    "        r = plt.Rectangle(**p)\n",
    "        ax.add_artist(r)\n",
    "\n",
    "    plt.show()\n",
    "    \n",
    "blocks = boxart.make_blocks(n_cols=n_cols)\n",
    "patches = blockcolors.blocks_to_mpl(blocks, colors)    \n",
    "plot_patches(patches)"
   ]
  },
  {
   "cell_type": "code",
   "execution_count": 18,
   "metadata": {
    "ExecuteTime": {
     "end_time": "2020-11-04T23:47:09.063443Z",
     "start_time": "2020-11-04T23:47:06.866444Z"
    }
   },
   "outputs": [
    {
     "data": {
      "image/png": "[encoded data removed]",
      "text/plain": [
       "<Figure size 432x288 with 1 Axes>"
      ]
     },
     "metadata": {
      "needs_background": "light"
     },
     "output_type": "display_data"
    }
   ],
   "source": [
    "patches = blockcolors.blocks_to_mpl(blocks, colors)    \n",
    "plot_patches(patches)"
   ]
  },
  {
   "cell_type": "code",
   "execution_count": null,
   "metadata": {},
   "outputs": [],
   "source": []
  }
 ],
 "metadata": {
  "kernelspec": {
   "display_name": "Python 3",
   "language": "python",
   "name": "python3"
  },
  "language_info": {
   "codemirror_mode": {
    "name": "ipython",
    "version": 3
   },
   "file_extension": ".py",
   "mimetype": "text/x-python",
   "name": "python",
   "nbconvert_exporter": "python",
   "pygments_lexer": "ipython3",
   "version": "3.7.4"
  }
 },
 "nbformat": 4,
 "nbformat_minor": 4
}
